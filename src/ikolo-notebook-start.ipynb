{
 "cells": [
  {
   "cell_type": "code",
   "execution_count": 1,
   "id": "822deb62-9528-4e90-8552-9531f39b725d",
   "metadata": {},
   "outputs": [
    {
     "name": "stdout",
     "output_type": "stream",
     "text": [
      "Loading Data >> Please wait >>>>>>>>>\n",
      "Resolved file path: E:\\Users\\gogir\\gogira\\ikolo\\ikolo\\src\\ikolo-app.py\n"
     ]
    },
    {
     "name": "stderr",
     "output_type": "stream",
     "text": [
      "2025-01-27 12:51:26,217 - INFO - Successfully loaded JSON file: E:\\Users\\gogir\\gogira\\ikolo\\ikolo\\src\\config.json\n",
      "2025-01-27 12:51:26,228 - INFO - Configuration loaded: {'default_tickers': ['AAPL', 'MSFT', 'GOOGL'], 'data_directory': 'data', 'watchlist_subdir': 'watchlist', 'portfolio_subdir': 'portfolio', 'module_directory': 'src/'}\n"
     ]
    },
    {
     "name": "stdout",
     "output_type": "stream",
     "text": [
      "An error occurred while running the script: name 'logger' is not defined\n"
     ]
    }
   ],
   "source": [
    "import importlib.util\n",
    "import os\n",
    "\n",
    "def load_and_run_script(file_path):\n",
    "    \"\"\"\n",
    "    Dynamically load and run a Python script from the given file path.\n",
    "    The script must define a `run()` function to be executed.\n",
    "    \n",
    "    Args:\n",
    "        file_path (str): Path to the Python script to be loaded and executed.\n",
    "    \"\"\"\n",
    "    if not os.path.isfile(file_path):\n",
    "        print(f\"Error: File '{file_path}' not found.\")\n",
    "        return\n",
    "\n",
    "    abs_file_path = os.path.abspath(file_path)\n",
    "    print(f\"Resolved file path: {abs_file_path}\")\n",
    "\n",
    "    try:\n",
    "        # Load the script as a module\n",
    "        module_name = os.path.splitext(os.path.basename(file_path))[0]\n",
    "        spec = importlib.util.spec_from_file_location(module_name, abs_file_path)\n",
    "        module = importlib.util.module_from_spec(spec)\n",
    "        spec.loader.exec_module(module)\n",
    "\n",
    "         # Call the correct entry point\n",
    "        if hasattr(module, \"run\"):\n",
    "            module.run()\n",
    "        elif hasattr(module, \"main\"):\n",
    "            module.main()\n",
    "        else:\n",
    "            print(f\"No suitable entry point (e.g., 'run()' or 'main()') found in {file_path}.\")\n",
    "    except Exception as e:\n",
    "        print(f\"An error occurred while running the script: {e}\")\n",
    "\n",
    "\n",
    "if __name__ == \"__main__\":\n",
    "    try:\n",
    "        print(\"Loading Data >> Please wait >>>>>>>>>\")\n",
    "        script_path = \"ikolo-app.py\"\n",
    "        load_and_run_script(script_path)\n",
    "    except Exception as e:\n",
    "        print(f\"Failed to load app: {e}\")\n"
   ]
  },
  {
   "cell_type": "code",
   "execution_count": 2,
   "id": "0a813c8a-4827-4dbd-8cdc-30dc0b03721c",
   "metadata": {},
   "outputs": [
    {
     "name": "stderr",
     "output_type": "stream",
     "text": [
      "2025-01-27 12:51:26,310 - INFO - Successfully loaded JSON file: E:\\Users\\gogir\\gogira\\ikolo\\ikolo\\src\\config.json\n",
      "INFO:FileManager:Successfully loaded JSON file: E:\\Users\\gogir\\gogira\\ikolo\\ikolo\\src\\config.json\n",
      "2025-01-27 12:51:26,328 - INFO - Configuration loaded: {'default_tickers': ['AAPL', 'MSFT', 'GOOGL'], 'data_directory': 'data', 'watchlist_subdir': 'watchlist', 'portfolio_subdir': 'portfolio', 'module_directory': 'src/'}\n",
      "INFO:PortfolioManagerApp:Configuration loaded: {'default_tickers': ['AAPL', 'MSFT', 'GOOGL'], 'data_directory': 'data', 'watchlist_subdir': 'watchlist', 'portfolio_subdir': 'portfolio', 'module_directory': 'src/'}\n"
     ]
    },
    {
     "name": "stdout",
     "output_type": "stream",
     "text": [
      "Resolved file path: E:\\Users\\gogir\\gogira\\ikolo\\ikolo\\src\\ikolo-app.py\n",
      "An error occurred while running the script: name 'logger' is not defined\n"
     ]
    }
   ],
   "source": [
    "load_and_run_script('ikolo-app.py')"
   ]
  },
  {
   "cell_type": "code",
   "execution_count": 3,
   "id": "e86ab85b-f20f-4d8f-8d26-2de103b7bfb6",
   "metadata": {},
   "outputs": [
    {
     "name": "stdout",
     "output_type": "stream",
     "text": [
      "Error: File 'main.py' not found.\n"
     ]
    }
   ],
   "source": [
    "load_and_run_script('main.py')"
   ]
  },
  {
   "cell_type": "code",
   "execution_count": null,
   "id": "c88ba515-8c8c-441a-bcb0-bac7511aa9eb",
   "metadata": {},
   "outputs": [],
   "source": []
  }
 ],
 "metadata": {
  "kernelspec": {
   "display_name": "Python 3 (ipykernel)",
   "language": "python",
   "name": "python3"
  },
  "language_info": {
   "codemirror_mode": {
    "name": "ipython",
    "version": 3
   },
   "file_extension": ".py",
   "mimetype": "text/x-python",
   "name": "python",
   "nbconvert_exporter": "python",
   "pygments_lexer": "ipython3",
   "version": "3.11.9"
  }
 },
 "nbformat": 4,
 "nbformat_minor": 5
}

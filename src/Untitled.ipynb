{
 "cells": [
  {
   "cell_type": "code",
   "execution_count": null,
   "id": "822deb62-9528-4e90-8552-9531f39b725d",
   "metadata": {},
   "outputs": [
    {
     "name": "stdout",
     "output_type": "stream",
     "text": [
      "Loading Data>> Please wait >>>>>>>>>\n",
      "RegisterUser module loaded.\n",
      "Welcome to the Portfolio Management App!\n",
      "Login System\n",
      "\n",
      "Main Menu:\n",
      "1. Register a new user\n",
      "2. Login\n",
      "3. List all users\n",
      "4. Update user details\n",
      "5. Reset password\n",
      "6. Exit\n"
     ]
    },
    {
     "name": "stdin",
     "output_type": "stream",
     "text": [
      "Enter your choice (1-6):  1\n",
      "Enter a username:  Admin\n",
      "Enter your first name:  member\n",
      "Enter your last name:  staff\n",
      "Enter your email address:  gogirafoundation@gmail.com\n",
      "Enter a password:  qwasqwas123\n"
     ]
    },
    {
     "name": "stdout",
     "output_type": "stream",
     "text": [
      "Registration status: User 'Admin' registered successfully.\n",
      "\n",
      "Main Menu:\n",
      "1. Register a new user\n",
      "2. Login\n",
      "3. List all users\n",
      "4. Update user details\n",
      "5. Reset password\n",
      "6. Exit\n"
     ]
    },
    {
     "name": "stdin",
     "output_type": "stream",
     "text": [
      "Enter your choice (1-6):  2\n",
      "Enter your username:  Admin\n",
      "Enter your password:  qwasqwas123\n"
     ]
    },
    {
     "name": "stdout",
     "output_type": "stream",
     "text": [
      "Welcome back, member!\n",
      "\n",
      "Main Menu:\n",
      "1. Register a new user\n",
      "2. Login\n",
      "3. List all users\n",
      "4. Update user details\n",
      "5. Reset password\n",
      "6. Exit\n"
     ]
    }
   ],
   "source": [
    "import importlib.util\n",
    "import os\n",
    "\n",
    "def load_and_run_script(file_path):\n",
    "    if not os.path.isfile(file_path):\n",
    "        print(f\"Error: File '{file_path}' not found.\")\n",
    "        return\n",
    "\n",
    "    abs_file_path = os.path.abspath(file_path)\n",
    "    #print(f\"Resolved file path: {abs_file_path}\")\n",
    "\n",
    "    try:\n",
    "        # Load the script as a module\n",
    "        module_name = os.path.splitext(os.path.basename(file_path))[0]\n",
    "        spec = importlib.util.spec_from_file_location(module_name, abs_file_path)\n",
    "        module = importlib.util.module_from_spec(spec)\n",
    "        spec.loader.exec_module(module)\n",
    "\n",
    "        # Explicitly call the main function\n",
    "        if hasattr(module, \"main\"):\n",
    "            module.main()\n",
    "        else:\n",
    "            print(f\"No 'main()' function found in {file_path}.\")\n",
    "\n",
    "    except Exception as e:\n",
    "        print(f\"An error occurred: {e}\")\n",
    "\n",
    "# usage\n",
    "\n",
    "if __name__ == '__main__':\n",
    "    try:\n",
    "        print(\"Loading Data>> Please wait >>>>>>>>>\")\n",
    "        load_and_run_script('ikolo-app.py')\n",
    "    except Exception as e:\n",
    "        print(f\" Failed to load app: {e}\")"
   ]
  },
  {
   "cell_type": "code",
   "execution_count": null,
   "id": "0a813c8a-4827-4dbd-8cdc-30dc0b03721c",
   "metadata": {},
   "outputs": [],
   "source": [
    "load_and_run_script('ikolo-app.py')"
   ]
  },
  {
   "cell_type": "code",
   "execution_count": null,
   "id": "e86ab85b-f20f-4d8f-8d26-2de103b7bfb6",
   "metadata": {},
   "outputs": [],
   "source": [
    "load_and_run_script('main.py')"
   ]
  },
  {
   "cell_type": "code",
   "execution_count": null,
   "id": "c88ba515-8c8c-441a-bcb0-bac7511aa9eb",
   "metadata": {},
   "outputs": [],
   "source": []
  }
 ],
 "metadata": {
  "kernelspec": {
   "display_name": "Python 3 (ipykernel)",
   "language": "python",
   "name": "python3"
  },
  "language_info": {
   "codemirror_mode": {
    "name": "ipython",
    "version": 3
   },
   "file_extension": ".py",
   "mimetype": "text/x-python",
   "name": "python",
   "nbconvert_exporter": "python",
   "pygments_lexer": "ipython3",
   "version": "3.11.9"
  }
 },
 "nbformat": 4,
 "nbformat_minor": 5
}
